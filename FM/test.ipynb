{
 "cells": [
  {
   "cell_type": "markdown",
   "source": [
    "# 数据部分"
   ],
   "metadata": {
    "collapsed": false
   },
   "id": "ef05c6f791d4ebc7"
  },
  {
   "cell_type": "code",
   "outputs": [],
   "source": [
    "import numpy as np\n",
    "import pandas as pd\n",
    "import data_loader\n",
    "\n",
    "path1='../Data'\n",
    "file_movies='movies.csv'\n",
    "file_ratings='ratings.csv'\n",
    "DL=data_loader.DataLoader(path1)"
   ],
   "metadata": {
    "collapsed": false,
    "ExecuteTime": {
     "end_time": "2024-11-22T05:12:45.943206Z",
     "start_time": "2024-11-22T05:12:45.315329Z"
    }
   },
   "id": "f66c877a3cd6c6c0",
   "execution_count": 1
  },
  {
   "cell_type": "code",
   "outputs": [
    {
     "name": "stderr",
     "output_type": "stream",
     "text": [
      "INFO:data_loader:加载文件：../Data\\movies.csv\n",
      "INFO:data_loader:文件加载成功，形状为：(9742, 3)\n",
      "INFO:data_loader:数据中没有缺失值。\n"
     ]
    }
   ],
   "source": [
    "data_movies=DL.load_csv(file_name=file_movies)\n",
    "missing=DL.check_missing_values(data_movies)\n",
    "# data_movies"
   ],
   "metadata": {
    "collapsed": false,
    "ExecuteTime": {
     "end_time": "2024-11-22T05:12:45.975771Z",
     "start_time": "2024-11-22T05:12:45.945204Z"
    }
   },
   "id": "c973f7dbd859a078",
   "execution_count": 2
  },
  {
   "cell_type": "code",
   "outputs": [
    {
     "name": "stderr",
     "output_type": "stream",
     "text": [
      "INFO:data_loader:加载文件：../Data\\ratings.csv\n",
      "INFO:data_loader:文件加载成功，形状为：(100836, 4)\n",
      "INFO:data_loader:数据中没有缺失值。\n"
     ]
    }
   ],
   "source": [
    "data_ratings=DL.load_csv(file_name=file_ratings)\n",
    "\n",
    "missing1=DL.check_missing_values(data_ratings)\n",
    "# data_ratings"
   ],
   "metadata": {
    "collapsed": false,
    "ExecuteTime": {
     "end_time": "2024-11-22T05:12:46.050083Z",
     "start_time": "2024-11-22T05:12:45.976782Z"
    }
   },
   "id": "775f8a22e7b34d69",
   "execution_count": 3
  },
  {
   "cell_type": "code",
   "outputs": [],
   "source": [
    "# 测试 筛选列\n",
    "# data1=data_movies.filter(items=['movieId','genres'])\n",
    "# data2=pd.get_dummies(data1)\n",
    "# data2.head()"
   ],
   "metadata": {
    "collapsed": false,
    "ExecuteTime": {
     "end_time": "2024-11-22T05:12:46.054697Z",
     "start_time": "2024-11-22T05:12:46.051086Z"
    }
   },
   "id": "82ccc2dcccb2b2c5",
   "execution_count": 4
  },
  {
   "cell_type": "code",
   "outputs": [
    {
     "data": {
      "text/plain": "        (no genres listed)  Action  Adventure  Animation  Children  Comedy  \\\n0                        0       0          1          1         1       1   \n1                        0       0          0          0         0       1   \n2                        0       1          0          0         0       0   \n3                        0       0          0          0         0       0   \n4                        0       0          0          0         0       0   \n...                    ...     ...        ...        ...       ...     ...   \n100831                   0       0          0          0         0       0   \n100832                   0       1          0          0         0       0   \n100833                   0       0          0          0         0       0   \n100834                   0       1          0          0         0       0   \n100835                   0       1          0          0         0       0   \n\n        Crime  Documentary  Drama  Fantasy  ...  year_bucket_1920-1929  \\\n0           0            0      0        1  ...                      0   \n1           0            0      0        0  ...                      0   \n2           1            0      0        0  ...                      0   \n3           0            0      0        0  ...                      0   \n4           1            0      0        0  ...                      0   \n...       ...          ...    ...      ...  ...                    ...   \n100831      0            0      1        0  ...                      0   \n100832      1            0      0        0  ...                      0   \n100833      0            0      0        0  ...                      0   \n100834      0            0      0        0  ...                      0   \n100835      1            0      1        0  ...                      0   \n\n        year_bucket_1930-1939  year_bucket_1940-1949  year_bucket_1950-1959  \\\n0                           0                      0                      0   \n1                           0                      0                      0   \n2                           0                      0                      0   \n3                           0                      0                      0   \n4                           0                      0                      0   \n...                       ...                    ...                    ...   \n100831                      0                      0                      0   \n100832                      0                      0                      0   \n100833                      0                      0                      0   \n100834                      0                      0                      0   \n100835                      0                      0                      0   \n\n        year_bucket_1960-1969  year_bucket_1970-1979  year_bucket_1980-1989  \\\n0                           0                      0                      0   \n1                           0                      0                      0   \n2                           0                      0                      0   \n3                           0                      0                      0   \n4                           0                      0                      0   \n...                       ...                    ...                    ...   \n100831                      0                      0                      0   \n100832                      0                      0                      0   \n100833                      0                      0                      0   \n100834                      0                      0                      0   \n100835                      0                      0                      0   \n\n        year_bucket_1990-1999  year_bucket_2000-2009  year_bucket_2010-2019  \n0                           1                      0                      0  \n1                           1                      0                      0  \n2                           1                      0                      0  \n3                           1                      0                      0  \n4                           1                      0                      0  \n...                       ...                    ...                    ...  \n100831                      0                      0                      1  \n100832                      0                      0                      1  \n100833                      0                      0                      1  \n100834                      0                      0                      1  \n100835                      0                      0                      1  \n\n[100836 rows x 642 columns]",
      "text/html": "<div>\n<style scoped>\n    .dataframe tbody tr th:only-of-type {\n        vertical-align: middle;\n    }\n\n    .dataframe tbody tr th {\n        vertical-align: top;\n    }\n\n    .dataframe thead th {\n        text-align: right;\n    }\n</style>\n<table border=\"1\" class=\"dataframe\">\n  <thead>\n    <tr style=\"text-align: right;\">\n      <th></th>\n      <th>(no genres listed)</th>\n      <th>Action</th>\n      <th>Adventure</th>\n      <th>Animation</th>\n      <th>Children</th>\n      <th>Comedy</th>\n      <th>Crime</th>\n      <th>Documentary</th>\n      <th>Drama</th>\n      <th>Fantasy</th>\n      <th>...</th>\n      <th>year_bucket_1920-1929</th>\n      <th>year_bucket_1930-1939</th>\n      <th>year_bucket_1940-1949</th>\n      <th>year_bucket_1950-1959</th>\n      <th>year_bucket_1960-1969</th>\n      <th>year_bucket_1970-1979</th>\n      <th>year_bucket_1980-1989</th>\n      <th>year_bucket_1990-1999</th>\n      <th>year_bucket_2000-2009</th>\n      <th>year_bucket_2010-2019</th>\n    </tr>\n  </thead>\n  <tbody>\n    <tr>\n      <th>0</th>\n      <td>0</td>\n      <td>0</td>\n      <td>1</td>\n      <td>1</td>\n      <td>1</td>\n      <td>1</td>\n      <td>0</td>\n      <td>0</td>\n      <td>0</td>\n      <td>1</td>\n      <td>...</td>\n      <td>0</td>\n      <td>0</td>\n      <td>0</td>\n      <td>0</td>\n      <td>0</td>\n      <td>0</td>\n      <td>0</td>\n      <td>1</td>\n      <td>0</td>\n      <td>0</td>\n    </tr>\n    <tr>\n      <th>1</th>\n      <td>0</td>\n      <td>0</td>\n      <td>0</td>\n      <td>0</td>\n      <td>0</td>\n      <td>1</td>\n      <td>0</td>\n      <td>0</td>\n      <td>0</td>\n      <td>0</td>\n      <td>...</td>\n      <td>0</td>\n      <td>0</td>\n      <td>0</td>\n      <td>0</td>\n      <td>0</td>\n      <td>0</td>\n      <td>0</td>\n      <td>1</td>\n      <td>0</td>\n      <td>0</td>\n    </tr>\n    <tr>\n      <th>2</th>\n      <td>0</td>\n      <td>1</td>\n      <td>0</td>\n      <td>0</td>\n      <td>0</td>\n      <td>0</td>\n      <td>1</td>\n      <td>0</td>\n      <td>0</td>\n      <td>0</td>\n      <td>...</td>\n      <td>0</td>\n      <td>0</td>\n      <td>0</td>\n      <td>0</td>\n      <td>0</td>\n      <td>0</td>\n      <td>0</td>\n      <td>1</td>\n      <td>0</td>\n      <td>0</td>\n    </tr>\n    <tr>\n      <th>3</th>\n      <td>0</td>\n      <td>0</td>\n      <td>0</td>\n      <td>0</td>\n      <td>0</td>\n      <td>0</td>\n      <td>0</td>\n      <td>0</td>\n      <td>0</td>\n      <td>0</td>\n      <td>...</td>\n      <td>0</td>\n      <td>0</td>\n      <td>0</td>\n      <td>0</td>\n      <td>0</td>\n      <td>0</td>\n      <td>0</td>\n      <td>1</td>\n      <td>0</td>\n      <td>0</td>\n    </tr>\n    <tr>\n      <th>4</th>\n      <td>0</td>\n      <td>0</td>\n      <td>0</td>\n      <td>0</td>\n      <td>0</td>\n      <td>0</td>\n      <td>1</td>\n      <td>0</td>\n      <td>0</td>\n      <td>0</td>\n      <td>...</td>\n      <td>0</td>\n      <td>0</td>\n      <td>0</td>\n      <td>0</td>\n      <td>0</td>\n      <td>0</td>\n      <td>0</td>\n      <td>1</td>\n      <td>0</td>\n      <td>0</td>\n    </tr>\n    <tr>\n      <th>...</th>\n      <td>...</td>\n      <td>...</td>\n      <td>...</td>\n      <td>...</td>\n      <td>...</td>\n      <td>...</td>\n      <td>...</td>\n      <td>...</td>\n      <td>...</td>\n      <td>...</td>\n      <td>...</td>\n      <td>...</td>\n      <td>...</td>\n      <td>...</td>\n      <td>...</td>\n      <td>...</td>\n      <td>...</td>\n      <td>...</td>\n      <td>...</td>\n      <td>...</td>\n      <td>...</td>\n    </tr>\n    <tr>\n      <th>100831</th>\n      <td>0</td>\n      <td>0</td>\n      <td>0</td>\n      <td>0</td>\n      <td>0</td>\n      <td>0</td>\n      <td>0</td>\n      <td>0</td>\n      <td>1</td>\n      <td>0</td>\n      <td>...</td>\n      <td>0</td>\n      <td>0</td>\n      <td>0</td>\n      <td>0</td>\n      <td>0</td>\n      <td>0</td>\n      <td>0</td>\n      <td>0</td>\n      <td>0</td>\n      <td>1</td>\n    </tr>\n    <tr>\n      <th>100832</th>\n      <td>0</td>\n      <td>1</td>\n      <td>0</td>\n      <td>0</td>\n      <td>0</td>\n      <td>0</td>\n      <td>1</td>\n      <td>0</td>\n      <td>0</td>\n      <td>0</td>\n      <td>...</td>\n      <td>0</td>\n      <td>0</td>\n      <td>0</td>\n      <td>0</td>\n      <td>0</td>\n      <td>0</td>\n      <td>0</td>\n      <td>0</td>\n      <td>0</td>\n      <td>1</td>\n    </tr>\n    <tr>\n      <th>100833</th>\n      <td>0</td>\n      <td>0</td>\n      <td>0</td>\n      <td>0</td>\n      <td>0</td>\n      <td>0</td>\n      <td>0</td>\n      <td>0</td>\n      <td>0</td>\n      <td>0</td>\n      <td>...</td>\n      <td>0</td>\n      <td>0</td>\n      <td>0</td>\n      <td>0</td>\n      <td>0</td>\n      <td>0</td>\n      <td>0</td>\n      <td>0</td>\n      <td>0</td>\n      <td>1</td>\n    </tr>\n    <tr>\n      <th>100834</th>\n      <td>0</td>\n      <td>1</td>\n      <td>0</td>\n      <td>0</td>\n      <td>0</td>\n      <td>0</td>\n      <td>0</td>\n      <td>0</td>\n      <td>0</td>\n      <td>0</td>\n      <td>...</td>\n      <td>0</td>\n      <td>0</td>\n      <td>0</td>\n      <td>0</td>\n      <td>0</td>\n      <td>0</td>\n      <td>0</td>\n      <td>0</td>\n      <td>0</td>\n      <td>1</td>\n    </tr>\n    <tr>\n      <th>100835</th>\n      <td>0</td>\n      <td>1</td>\n      <td>0</td>\n      <td>0</td>\n      <td>0</td>\n      <td>0</td>\n      <td>1</td>\n      <td>0</td>\n      <td>1</td>\n      <td>0</td>\n      <td>...</td>\n      <td>0</td>\n      <td>0</td>\n      <td>0</td>\n      <td>0</td>\n      <td>0</td>\n      <td>0</td>\n      <td>0</td>\n      <td>0</td>\n      <td>0</td>\n      <td>1</td>\n    </tr>\n  </tbody>\n</table>\n<p>100836 rows × 642 columns</p>\n</div>"
     },
     "execution_count": 5,
     "metadata": {},
     "output_type": "execute_result"
    }
   ],
   "source": [
    "X,y=DL.one_hot_encode(data_movies=data_movies,data_ratings=data_ratings)\n",
    "X\n",
    "# print(y.shape)\n",
    "# X.head()"
   ],
   "metadata": {
    "collapsed": false,
    "ExecuteTime": {
     "end_time": "2024-11-22T05:12:48.562717Z",
     "start_time": "2024-11-22T05:12:47.153454Z"
    }
   },
   "id": "6fa46bea57aa6f22",
   "execution_count": 5
  },
  {
   "cell_type": "code",
   "outputs": [],
   "source": [
    "# 对movieid进行one-hot\n"
   ],
   "metadata": {
    "collapsed": false
   },
   "id": "17bca0b02d76e58",
   "execution_count": 7
  },
  {
   "cell_type": "markdown",
   "source": [
    "## 训练部分"
   ],
   "metadata": {
    "collapsed": false
   },
   "id": "61527f840e844623"
  },
  {
   "cell_type": "code",
   "outputs": [],
   "source": [
    "from sklearn.model_selection import train_test_split\n",
    "from model import FM\n",
    "import tensorflow as tf\n",
    "\n",
    "X_train, X_test, y_train, y_test = train_test_split(X, y, test_size=0.2)\n",
    "# print(X_train.shape)\n",
    "# print(y_train.shape)\n",
    "# 转为tf需要的格式\n",
    "X_train=X_train.astype('float32')\n",
    "X_test=X_test.astype('float32')"
   ],
   "metadata": {
    "collapsed": false,
    "ExecuteTime": {
     "end_time": "2024-11-22T05:18:52.738779Z",
     "start_time": "2024-11-22T05:18:47.489735Z"
    }
   },
   "id": "e9ae8e2240ad2dcd",
   "execution_count": 6
  },
  {
   "cell_type": "code",
   "outputs": [
    {
     "name": "stdout",
     "output_type": "stream",
     "text": [
      "Epoch 1/40\n",
      "\u001B[1m2521/2521\u001B[0m \u001B[32m━━━━━━━━━━━━━━━━━━━━\u001B[0m\u001B[37m\u001B[0m \u001B[1m2s\u001B[0m 606us/step - loss: 8.7871\n",
      "Epoch 2/40\n",
      "\u001B[1m2521/2521\u001B[0m \u001B[32m━━━━━━━━━━━━━━━━━━━━\u001B[0m\u001B[37m\u001B[0m \u001B[1m1s\u001B[0m 550us/step - loss: 7.5633\n",
      "Epoch 3/40\n",
      "\u001B[1m2521/2521\u001B[0m \u001B[32m━━━━━━━━━━━━━━━━━━━━\u001B[0m\u001B[37m\u001B[0m \u001B[1m1s\u001B[0m 493us/step - loss: 7.4448\n",
      "Epoch 4/40\n",
      "\u001B[1m2521/2521\u001B[0m \u001B[32m━━━━━━━━━━━━━━━━━━━━\u001B[0m\u001B[37m\u001B[0m \u001B[1m1s\u001B[0m 494us/step - loss: 7.4296\n",
      "Epoch 5/40\n",
      "\u001B[1m2521/2521\u001B[0m \u001B[32m━━━━━━━━━━━━━━━━━━━━\u001B[0m\u001B[37m\u001B[0m \u001B[1m1s\u001B[0m 491us/step - loss: 7.3920\n",
      "Epoch 6/40\n",
      "\u001B[1m2521/2521\u001B[0m \u001B[32m━━━━━━━━━━━━━━━━━━━━\u001B[0m\u001B[37m\u001B[0m \u001B[1m1s\u001B[0m 488us/step - loss: 7.3904\n",
      "Epoch 7/40\n",
      "\u001B[1m2521/2521\u001B[0m \u001B[32m━━━━━━━━━━━━━━━━━━━━\u001B[0m\u001B[37m\u001B[0m \u001B[1m1s\u001B[0m 490us/step - loss: 7.3966\n",
      "Epoch 8/40\n",
      "\u001B[1m2521/2521\u001B[0m \u001B[32m━━━━━━━━━━━━━━━━━━━━\u001B[0m\u001B[37m\u001B[0m \u001B[1m1s\u001B[0m 539us/step - loss: 7.4024\n",
      "Epoch 9/40\n",
      "\u001B[1m2521/2521\u001B[0m \u001B[32m━━━━━━━━━━━━━━━━━━━━\u001B[0m\u001B[37m\u001B[0m \u001B[1m1s\u001B[0m 561us/step - loss: 7.3986\n",
      "Epoch 10/40\n",
      "\u001B[1m2521/2521\u001B[0m \u001B[32m━━━━━━━━━━━━━━━━━━━━\u001B[0m\u001B[37m\u001B[0m \u001B[1m1s\u001B[0m 492us/step - loss: 7.3906\n",
      "Epoch 11/40\n",
      "\u001B[1m2521/2521\u001B[0m \u001B[32m━━━━━━━━━━━━━━━━━━━━\u001B[0m\u001B[37m\u001B[0m \u001B[1m1s\u001B[0m 493us/step - loss: 7.3826\n",
      "Epoch 12/40\n",
      "\u001B[1m2521/2521\u001B[0m \u001B[32m━━━━━━━━━━━━━━━━━━━━\u001B[0m\u001B[37m\u001B[0m \u001B[1m1s\u001B[0m 539us/step - loss: 7.3566\n",
      "Epoch 13/40\n",
      "\u001B[1m2521/2521\u001B[0m \u001B[32m━━━━━━━━━━━━━━━━━━━━\u001B[0m\u001B[37m\u001B[0m \u001B[1m1s\u001B[0m 489us/step - loss: 7.3375\n",
      "Epoch 14/40\n",
      "\u001B[1m2521/2521\u001B[0m \u001B[32m━━━━━━━━━━━━━━━━━━━━\u001B[0m\u001B[37m\u001B[0m \u001B[1m1s\u001B[0m 496us/step - loss: 7.3544\n",
      "Epoch 15/40\n",
      "\u001B[1m2521/2521\u001B[0m \u001B[32m━━━━━━━━━━━━━━━━━━━━\u001B[0m\u001B[37m\u001B[0m \u001B[1m1s\u001B[0m 504us/step - loss: 7.3499\n",
      "Epoch 16/40\n",
      "\u001B[1m2521/2521\u001B[0m \u001B[32m━━━━━━━━━━━━━━━━━━━━\u001B[0m\u001B[37m\u001B[0m \u001B[1m1s\u001B[0m 524us/step - loss: 7.3445\n",
      "Epoch 17/40\n",
      "\u001B[1m2521/2521\u001B[0m \u001B[32m━━━━━━━━━━━━━━━━━━━━\u001B[0m\u001B[37m\u001B[0m \u001B[1m1s\u001B[0m 490us/step - loss: 7.3557\n",
      "Epoch 18/40\n",
      "\u001B[1m2521/2521\u001B[0m \u001B[32m━━━━━━━━━━━━━━━━━━━━\u001B[0m\u001B[37m\u001B[0m \u001B[1m1s\u001B[0m 494us/step - loss: 7.3462\n",
      "Epoch 19/40\n",
      "\u001B[1m2521/2521\u001B[0m \u001B[32m━━━━━━━━━━━━━━━━━━━━\u001B[0m\u001B[37m\u001B[0m \u001B[1m1s\u001B[0m 495us/step - loss: 7.3521\n",
      "Epoch 20/40\n",
      "\u001B[1m2521/2521\u001B[0m \u001B[32m━━━━━━━━━━━━━━━━━━━━\u001B[0m\u001B[37m\u001B[0m \u001B[1m1s\u001B[0m 531us/step - loss: 7.3706\n",
      "Epoch 21/40\n",
      "\u001B[1m2521/2521\u001B[0m \u001B[32m━━━━━━━━━━━━━━━━━━━━\u001B[0m\u001B[37m\u001B[0m \u001B[1m1s\u001B[0m 497us/step - loss: 7.3455\n",
      "Epoch 22/40\n",
      "\u001B[1m2521/2521\u001B[0m \u001B[32m━━━━━━━━━━━━━━━━━━━━\u001B[0m\u001B[37m\u001B[0m \u001B[1m1s\u001B[0m 500us/step - loss: 7.3708\n",
      "Epoch 23/40\n",
      "\u001B[1m2521/2521\u001B[0m \u001B[32m━━━━━━━━━━━━━━━━━━━━\u001B[0m\u001B[37m\u001B[0m \u001B[1m1s\u001B[0m 501us/step - loss: 7.3460\n",
      "Epoch 24/40\n",
      "\u001B[1m2521/2521\u001B[0m \u001B[32m━━━━━━━━━━━━━━━━━━━━\u001B[0m\u001B[37m\u001B[0m \u001B[1m1s\u001B[0m 493us/step - loss: 7.3653\n",
      "Epoch 25/40\n",
      "\u001B[1m2521/2521\u001B[0m \u001B[32m━━━━━━━━━━━━━━━━━━━━\u001B[0m\u001B[37m\u001B[0m \u001B[1m1s\u001B[0m 490us/step - loss: 7.3392\n",
      "Epoch 26/40\n",
      "\u001B[1m2521/2521\u001B[0m \u001B[32m━━━━━━━━━━━━━━━━━━━━\u001B[0m\u001B[37m\u001B[0m \u001B[1m1s\u001B[0m 494us/step - loss: 7.3435\n",
      "Epoch 27/40\n",
      "\u001B[1m2521/2521\u001B[0m \u001B[32m━━━━━━━━━━━━━━━━━━━━\u001B[0m\u001B[37m\u001B[0m \u001B[1m1s\u001B[0m 491us/step - loss: 7.3697\n",
      "Epoch 28/40\n",
      "\u001B[1m2521/2521\u001B[0m \u001B[32m━━━━━━━━━━━━━━━━━━━━\u001B[0m\u001B[37m\u001B[0m \u001B[1m1s\u001B[0m 489us/step - loss: 7.3453\n",
      "Epoch 29/40\n",
      "\u001B[1m2521/2521\u001B[0m \u001B[32m━━━━━━━━━━━━━━━━━━━━\u001B[0m\u001B[37m\u001B[0m \u001B[1m1s\u001B[0m 487us/step - loss: 7.3465\n",
      "Epoch 30/40\n",
      "\u001B[1m2521/2521\u001B[0m \u001B[32m━━━━━━━━━━━━━━━━━━━━\u001B[0m\u001B[37m\u001B[0m \u001B[1m1s\u001B[0m 498us/step - loss: 7.3578\n",
      "Epoch 31/40\n",
      "\u001B[1m2521/2521\u001B[0m \u001B[32m━━━━━━━━━━━━━━━━━━━━\u001B[0m\u001B[37m\u001B[0m \u001B[1m1s\u001B[0m 495us/step - loss: 7.3275\n",
      "Epoch 32/40\n",
      "\u001B[1m2521/2521\u001B[0m \u001B[32m━━━━━━━━━━━━━━━━━━━━\u001B[0m\u001B[37m\u001B[0m \u001B[1m1s\u001B[0m 488us/step - loss: 7.3613\n",
      "Epoch 33/40\n",
      "\u001B[1m2521/2521\u001B[0m \u001B[32m━━━━━━━━━━━━━━━━━━━━\u001B[0m\u001B[37m\u001B[0m \u001B[1m1s\u001B[0m 498us/step - loss: 7.3482\n",
      "Epoch 34/40\n",
      "\u001B[1m2521/2521\u001B[0m \u001B[32m━━━━━━━━━━━━━━━━━━━━\u001B[0m\u001B[37m\u001B[0m \u001B[1m1s\u001B[0m 496us/step - loss: 7.3703\n",
      "Epoch 35/40\n",
      "\u001B[1m2521/2521\u001B[0m \u001B[32m━━━━━━━━━━━━━━━━━━━━\u001B[0m\u001B[37m\u001B[0m \u001B[1m1s\u001B[0m 509us/step - loss: 7.3564\n",
      "Epoch 36/40\n",
      "\u001B[1m2521/2521\u001B[0m \u001B[32m━━━━━━━━━━━━━━━━━━━━\u001B[0m\u001B[37m\u001B[0m \u001B[1m1s\u001B[0m 486us/step - loss: 7.3536\n",
      "Epoch 37/40\n",
      "\u001B[1m2521/2521\u001B[0m \u001B[32m━━━━━━━━━━━━━━━━━━━━\u001B[0m\u001B[37m\u001B[0m \u001B[1m1s\u001B[0m 490us/step - loss: 7.3410\n",
      "Epoch 38/40\n",
      "\u001B[1m2521/2521\u001B[0m \u001B[32m━━━━━━━━━━━━━━━━━━━━\u001B[0m\u001B[37m\u001B[0m \u001B[1m1s\u001B[0m 494us/step - loss: 7.3703\n",
      "Epoch 39/40\n",
      "\u001B[1m2521/2521\u001B[0m \u001B[32m━━━━━━━━━━━━━━━━━━━━\u001B[0m\u001B[37m\u001B[0m \u001B[1m1s\u001B[0m 503us/step - loss: 7.3678\n",
      "Epoch 40/40\n",
      "\u001B[1m2521/2521\u001B[0m \u001B[32m━━━━━━━━━━━━━━━━━━━━\u001B[0m\u001B[37m\u001B[0m \u001B[1m1s\u001B[0m 489us/step - loss: 7.3536\n"
     ]
    },
    {
     "data": {
      "text/plain": "<keras.src.callbacks.history.History at 0x1dd9078ff50>"
     },
     "execution_count": 9,
     "metadata": {},
     "output_type": "execute_result"
    }
   ],
   "source": [
    "k = 10\n",
    "w_reg=1e-6\n",
    "v_reg=1e-6\n",
    "model=FM(k=k,w_reg=w_reg,v_reg=v_reg)\n",
    "optimizer=tf.keras.optimizers.SGD(learning_rate=0.001)\n",
    "model.compile(loss='mse',optimizer=optimizer)\n",
    "model.fit(X_train,y_train,epochs=40)\n",
    "# model.evaluate(X_test,y_test)"
   ],
   "metadata": {
    "collapsed": false,
    "ExecuteTime": {
     "end_time": "2024-11-22T05:20:50.759352Z",
     "start_time": "2024-11-22T05:19:58.169938Z"
    }
   },
   "id": "562526658e5997c5",
   "execution_count": 9
  },
  {
   "cell_type": "code",
   "outputs": [
    {
     "name": "stdout",
     "output_type": "stream",
     "text": [
      "\u001B[1m631/631\u001B[0m \u001B[32m━━━━━━━━━━━━━━━━━━━━\u001B[0m\u001B[37m\u001B[0m \u001B[1m0s\u001B[0m 575us/step\n",
      "7.338151349242316\n"
     ]
    }
   ],
   "source": [
    "predictions=model.predict(X_test)\n",
    "# predictions\n",
    "from sklearn.metrics import mean_squared_error\n",
    "print(mean_squared_error(y_test,predictions))"
   ],
   "metadata": {
    "collapsed": false,
    "ExecuteTime": {
     "end_time": "2024-11-22T05:20:53.110722Z",
     "start_time": "2024-11-22T05:20:52.429323Z"
    }
   },
   "id": "54dc597f7a6f69b3",
   "execution_count": 10
  },
  {
   "cell_type": "code",
   "outputs": [],
   "source": [],
   "metadata": {
    "collapsed": false,
    "ExecuteTime": {
     "start_time": "2024-11-20T08:05:59.435885Z"
    }
   },
   "id": "97a5b244418ec3f3"
  }
 ],
 "metadata": {
  "kernelspec": {
   "display_name": "Python 3",
   "language": "python",
   "name": "python3"
  },
  "language_info": {
   "codemirror_mode": {
    "name": "ipython",
    "version": 2
   },
   "file_extension": ".py",
   "mimetype": "text/x-python",
   "name": "python",
   "nbconvert_exporter": "python",
   "pygments_lexer": "ipython2",
   "version": "2.7.6"
  }
 },
 "nbformat": 4,
 "nbformat_minor": 5
}
