{
 "cells": [
  {
   "cell_type": "code",
   "outputs": [],
   "source": [
    "import numpy as np\n",
    "import pandas as pd\n",
    "import data_loader\n",
    "\n",
    "path1='../Data'\n",
    "file_movies='movies.csv'\n",
    "file_ratings='ratings.csv'\n",
    "DL=data_loader.DataLoader(path1)"
   ],
   "metadata": {
    "collapsed": false,
    "ExecuteTime": {
     "end_time": "2024-11-17T06:46:45.758618Z",
     "start_time": "2024-11-17T06:46:45.162214Z"
    }
   },
   "id": "f66c877a3cd6c6c0",
   "execution_count": 1
  },
  {
   "cell_type": "code",
   "outputs": [
    {
     "name": "stderr",
     "output_type": "stream",
     "text": [
      "INFO:data_loader:加载文件：../Data\\movies.csv\n",
      "INFO:data_loader:文件加载成功，形状为：(9742, 3)\n",
      "INFO:data_loader:数据中没有缺失值。\n"
     ]
    },
    {
     "data": {
      "text/plain": "     movieId                               title  \\\n0          1                    Toy Story (1995)   \n1          2                      Jumanji (1995)   \n2          3             Grumpier Old Men (1995)   \n3          4            Waiting to Exhale (1995)   \n4          5  Father of the Bride Part II (1995)   \n..       ...                                 ...   \n130      157               Canadian Bacon (1995)   \n131      158                       Casper (1995)   \n132      159                     Clockers (1995)   \n133      160                        Congo (1995)   \n134      161                 Crimson Tide (1995)   \n\n                                          genres  \n0    Adventure|Animation|Children|Comedy|Fantasy  \n1                     Adventure|Children|Fantasy  \n2                                 Comedy|Romance  \n3                           Comedy|Drama|Romance  \n4                                         Comedy  \n..                                           ...  \n130                                   Comedy|War  \n131                           Adventure|Children  \n132                          Crime|Drama|Mystery  \n133              Action|Adventure|Mystery|Sci-Fi  \n134                           Drama|Thriller|War  \n\n[135 rows x 3 columns]",
      "text/html": "<div>\n<style scoped>\n    .dataframe tbody tr th:only-of-type {\n        vertical-align: middle;\n    }\n\n    .dataframe tbody tr th {\n        vertical-align: top;\n    }\n\n    .dataframe thead th {\n        text-align: right;\n    }\n</style>\n<table border=\"1\" class=\"dataframe\">\n  <thead>\n    <tr style=\"text-align: right;\">\n      <th></th>\n      <th>movieId</th>\n      <th>title</th>\n      <th>genres</th>\n    </tr>\n  </thead>\n  <tbody>\n    <tr>\n      <th>0</th>\n      <td>1</td>\n      <td>Toy Story (1995)</td>\n      <td>Adventure|Animation|Children|Comedy|Fantasy</td>\n    </tr>\n    <tr>\n      <th>1</th>\n      <td>2</td>\n      <td>Jumanji (1995)</td>\n      <td>Adventure|Children|Fantasy</td>\n    </tr>\n    <tr>\n      <th>2</th>\n      <td>3</td>\n      <td>Grumpier Old Men (1995)</td>\n      <td>Comedy|Romance</td>\n    </tr>\n    <tr>\n      <th>3</th>\n      <td>4</td>\n      <td>Waiting to Exhale (1995)</td>\n      <td>Comedy|Drama|Romance</td>\n    </tr>\n    <tr>\n      <th>4</th>\n      <td>5</td>\n      <td>Father of the Bride Part II (1995)</td>\n      <td>Comedy</td>\n    </tr>\n    <tr>\n      <th>...</th>\n      <td>...</td>\n      <td>...</td>\n      <td>...</td>\n    </tr>\n    <tr>\n      <th>130</th>\n      <td>157</td>\n      <td>Canadian Bacon (1995)</td>\n      <td>Comedy|War</td>\n    </tr>\n    <tr>\n      <th>131</th>\n      <td>158</td>\n      <td>Casper (1995)</td>\n      <td>Adventure|Children</td>\n    </tr>\n    <tr>\n      <th>132</th>\n      <td>159</td>\n      <td>Clockers (1995)</td>\n      <td>Crime|Drama|Mystery</td>\n    </tr>\n    <tr>\n      <th>133</th>\n      <td>160</td>\n      <td>Congo (1995)</td>\n      <td>Action|Adventure|Mystery|Sci-Fi</td>\n    </tr>\n    <tr>\n      <th>134</th>\n      <td>161</td>\n      <td>Crimson Tide (1995)</td>\n      <td>Drama|Thriller|War</td>\n    </tr>\n  </tbody>\n</table>\n<p>135 rows × 3 columns</p>\n</div>"
     },
     "execution_count": 2,
     "metadata": {},
     "output_type": "execute_result"
    }
   ],
   "source": [
    "data_movies=DL.load_csv(file_name=file_movies)\n",
    "\n",
    "missing=DL.check_missing_values(data_movies)\n",
    "data_movies.head(135)"
   ],
   "metadata": {
    "collapsed": false,
    "ExecuteTime": {
     "end_time": "2024-11-17T06:46:45.792893Z",
     "start_time": "2024-11-17T06:46:45.759683Z"
    }
   },
   "id": "c973f7dbd859a078",
   "execution_count": 2
  },
  {
   "cell_type": "code",
   "outputs": [
    {
     "name": "stderr",
     "output_type": "stream",
     "text": [
      "INFO:data_loader:加载文件：../Data\\ratings.csv\n",
      "INFO:data_loader:文件加载成功，形状为：(100836, 4)\n",
      "INFO:data_loader:数据中没有缺失值。\n"
     ]
    },
    {
     "data": {
      "text/plain": "        userId  movieId  rating   timestamp\n0            1        1     4.0   964982703\n1            1        3     4.0   964981247\n2            1        6     4.0   964982224\n3            1       47     5.0   964983815\n4            1       50     5.0   964982931\n...        ...      ...     ...         ...\n100831     610   166534     4.0  1493848402\n100832     610   168248     5.0  1493850091\n100833     610   168250     5.0  1494273047\n100834     610   168252     5.0  1493846352\n100835     610   170875     3.0  1493846415\n\n[100836 rows x 4 columns]",
      "text/html": "<div>\n<style scoped>\n    .dataframe tbody tr th:only-of-type {\n        vertical-align: middle;\n    }\n\n    .dataframe tbody tr th {\n        vertical-align: top;\n    }\n\n    .dataframe thead th {\n        text-align: right;\n    }\n</style>\n<table border=\"1\" class=\"dataframe\">\n  <thead>\n    <tr style=\"text-align: right;\">\n      <th></th>\n      <th>userId</th>\n      <th>movieId</th>\n      <th>rating</th>\n      <th>timestamp</th>\n    </tr>\n  </thead>\n  <tbody>\n    <tr>\n      <th>0</th>\n      <td>1</td>\n      <td>1</td>\n      <td>4.0</td>\n      <td>964982703</td>\n    </tr>\n    <tr>\n      <th>1</th>\n      <td>1</td>\n      <td>3</td>\n      <td>4.0</td>\n      <td>964981247</td>\n    </tr>\n    <tr>\n      <th>2</th>\n      <td>1</td>\n      <td>6</td>\n      <td>4.0</td>\n      <td>964982224</td>\n    </tr>\n    <tr>\n      <th>3</th>\n      <td>1</td>\n      <td>47</td>\n      <td>5.0</td>\n      <td>964983815</td>\n    </tr>\n    <tr>\n      <th>4</th>\n      <td>1</td>\n      <td>50</td>\n      <td>5.0</td>\n      <td>964982931</td>\n    </tr>\n    <tr>\n      <th>...</th>\n      <td>...</td>\n      <td>...</td>\n      <td>...</td>\n      <td>...</td>\n    </tr>\n    <tr>\n      <th>100831</th>\n      <td>610</td>\n      <td>166534</td>\n      <td>4.0</td>\n      <td>1493848402</td>\n    </tr>\n    <tr>\n      <th>100832</th>\n      <td>610</td>\n      <td>168248</td>\n      <td>5.0</td>\n      <td>1493850091</td>\n    </tr>\n    <tr>\n      <th>100833</th>\n      <td>610</td>\n      <td>168250</td>\n      <td>5.0</td>\n      <td>1494273047</td>\n    </tr>\n    <tr>\n      <th>100834</th>\n      <td>610</td>\n      <td>168252</td>\n      <td>5.0</td>\n      <td>1493846352</td>\n    </tr>\n    <tr>\n      <th>100835</th>\n      <td>610</td>\n      <td>170875</td>\n      <td>3.0</td>\n      <td>1493846415</td>\n    </tr>\n  </tbody>\n</table>\n<p>100836 rows × 4 columns</p>\n</div>"
     },
     "execution_count": 3,
     "metadata": {},
     "output_type": "execute_result"
    }
   ],
   "source": [
    "data_ratings=DL.load_csv(file_name=file_ratings)\n",
    "\n",
    "missing1=DL.check_missing_values(data_ratings)\n",
    "data_ratings"
   ],
   "metadata": {
    "collapsed": false,
    "ExecuteTime": {
     "end_time": "2024-11-17T06:46:45.838866Z",
     "start_time": "2024-11-17T06:46:45.793928Z"
    }
   },
   "id": "775f8a22e7b34d69",
   "execution_count": 3
  },
  {
   "cell_type": "code",
   "outputs": [
    {
     "data": {
      "text/plain": "   movieId  genres_(no genres listed)  genres_Action  genres_Action|Adventure  \\\n0        1                      False          False                    False   \n1        2                      False          False                    False   \n2        3                      False          False                    False   \n3        4                      False          False                    False   \n4        5                      False          False                    False   \n\n   genres_Action|Adventure|Animation  \\\n0                              False   \n1                              False   \n2                              False   \n3                              False   \n4                              False   \n\n   genres_Action|Adventure|Animation|Children  \\\n0                                       False   \n1                                       False   \n2                                       False   \n3                                       False   \n4                                       False   \n\n   genres_Action|Adventure|Animation|Children|Comedy  \\\n0                                              False   \n1                                              False   \n2                                              False   \n3                                              False   \n4                                              False   \n\n   genres_Action|Adventure|Animation|Children|Comedy|Fantasy  \\\n0                                              False           \n1                                              False           \n2                                              False           \n3                                              False           \n4                                              False           \n\n   genres_Action|Adventure|Animation|Children|Comedy|IMAX  \\\n0                                              False        \n1                                              False        \n2                                              False        \n3                                              False        \n4                                              False        \n\n   genres_Action|Adventure|Animation|Children|Comedy|Romance  ...  \\\n0                                              False          ...   \n1                                              False          ...   \n2                                              False          ...   \n3                                              False          ...   \n4                                              False          ...   \n\n   genres_Romance|Thriller  genres_Romance|War  genres_Romance|Western  \\\n0                    False               False                   False   \n1                    False               False                   False   \n2                    False               False                   False   \n3                    False               False                   False   \n4                    False               False                   False   \n\n   genres_Sci-Fi  genres_Sci-Fi|IMAX  genres_Sci-Fi|Thriller  \\\n0          False               False                   False   \n1          False               False                   False   \n2          False               False                   False   \n3          False               False                   False   \n4          False               False                   False   \n\n   genres_Sci-Fi|Thriller|IMAX  genres_Thriller  genres_War  genres_Western  \n0                        False            False       False           False  \n1                        False            False       False           False  \n2                        False            False       False           False  \n3                        False            False       False           False  \n4                        False            False       False           False  \n\n[5 rows x 952 columns]",
      "text/html": "<div>\n<style scoped>\n    .dataframe tbody tr th:only-of-type {\n        vertical-align: middle;\n    }\n\n    .dataframe tbody tr th {\n        vertical-align: top;\n    }\n\n    .dataframe thead th {\n        text-align: right;\n    }\n</style>\n<table border=\"1\" class=\"dataframe\">\n  <thead>\n    <tr style=\"text-align: right;\">\n      <th></th>\n      <th>movieId</th>\n      <th>genres_(no genres listed)</th>\n      <th>genres_Action</th>\n      <th>genres_Action|Adventure</th>\n      <th>genres_Action|Adventure|Animation</th>\n      <th>genres_Action|Adventure|Animation|Children</th>\n      <th>genres_Action|Adventure|Animation|Children|Comedy</th>\n      <th>genres_Action|Adventure|Animation|Children|Comedy|Fantasy</th>\n      <th>genres_Action|Adventure|Animation|Children|Comedy|IMAX</th>\n      <th>genres_Action|Adventure|Animation|Children|Comedy|Romance</th>\n      <th>...</th>\n      <th>genres_Romance|Thriller</th>\n      <th>genres_Romance|War</th>\n      <th>genres_Romance|Western</th>\n      <th>genres_Sci-Fi</th>\n      <th>genres_Sci-Fi|IMAX</th>\n      <th>genres_Sci-Fi|Thriller</th>\n      <th>genres_Sci-Fi|Thriller|IMAX</th>\n      <th>genres_Thriller</th>\n      <th>genres_War</th>\n      <th>genres_Western</th>\n    </tr>\n  </thead>\n  <tbody>\n    <tr>\n      <th>0</th>\n      <td>1</td>\n      <td>False</td>\n      <td>False</td>\n      <td>False</td>\n      <td>False</td>\n      <td>False</td>\n      <td>False</td>\n      <td>False</td>\n      <td>False</td>\n      <td>False</td>\n      <td>...</td>\n      <td>False</td>\n      <td>False</td>\n      <td>False</td>\n      <td>False</td>\n      <td>False</td>\n      <td>False</td>\n      <td>False</td>\n      <td>False</td>\n      <td>False</td>\n      <td>False</td>\n    </tr>\n    <tr>\n      <th>1</th>\n      <td>2</td>\n      <td>False</td>\n      <td>False</td>\n      <td>False</td>\n      <td>False</td>\n      <td>False</td>\n      <td>False</td>\n      <td>False</td>\n      <td>False</td>\n      <td>False</td>\n      <td>...</td>\n      <td>False</td>\n      <td>False</td>\n      <td>False</td>\n      <td>False</td>\n      <td>False</td>\n      <td>False</td>\n      <td>False</td>\n      <td>False</td>\n      <td>False</td>\n      <td>False</td>\n    </tr>\n    <tr>\n      <th>2</th>\n      <td>3</td>\n      <td>False</td>\n      <td>False</td>\n      <td>False</td>\n      <td>False</td>\n      <td>False</td>\n      <td>False</td>\n      <td>False</td>\n      <td>False</td>\n      <td>False</td>\n      <td>...</td>\n      <td>False</td>\n      <td>False</td>\n      <td>False</td>\n      <td>False</td>\n      <td>False</td>\n      <td>False</td>\n      <td>False</td>\n      <td>False</td>\n      <td>False</td>\n      <td>False</td>\n    </tr>\n    <tr>\n      <th>3</th>\n      <td>4</td>\n      <td>False</td>\n      <td>False</td>\n      <td>False</td>\n      <td>False</td>\n      <td>False</td>\n      <td>False</td>\n      <td>False</td>\n      <td>False</td>\n      <td>False</td>\n      <td>...</td>\n      <td>False</td>\n      <td>False</td>\n      <td>False</td>\n      <td>False</td>\n      <td>False</td>\n      <td>False</td>\n      <td>False</td>\n      <td>False</td>\n      <td>False</td>\n      <td>False</td>\n    </tr>\n    <tr>\n      <th>4</th>\n      <td>5</td>\n      <td>False</td>\n      <td>False</td>\n      <td>False</td>\n      <td>False</td>\n      <td>False</td>\n      <td>False</td>\n      <td>False</td>\n      <td>False</td>\n      <td>False</td>\n      <td>...</td>\n      <td>False</td>\n      <td>False</td>\n      <td>False</td>\n      <td>False</td>\n      <td>False</td>\n      <td>False</td>\n      <td>False</td>\n      <td>False</td>\n      <td>False</td>\n      <td>False</td>\n    </tr>\n  </tbody>\n</table>\n<p>5 rows × 952 columns</p>\n</div>"
     },
     "execution_count": 4,
     "metadata": {},
     "output_type": "execute_result"
    }
   ],
   "source": [
    "# 测试 筛选列\n",
    "data1=data_movies.filter(items=['movieId','genres'])\n",
    "data2=pd.get_dummies(data1)\n",
    "data2.head()"
   ],
   "metadata": {
    "collapsed": false,
    "ExecuteTime": {
     "end_time": "2024-11-17T06:46:45.864204Z",
     "start_time": "2024-11-17T06:46:45.839886Z"
    }
   },
   "id": "82ccc2dcccb2b2c5",
   "execution_count": 4
  },
  {
   "cell_type": "code",
   "outputs": [
    {
     "name": "stdout",
     "output_type": "stream",
     "text": [
      "(100836, 129)\n",
      "(100836,)\n"
     ]
    },
    {
     "data": {
      "text/plain": "0         4.0\n1         4.0\n2         4.0\n3         5.0\n4         5.0\n         ... \n100831    4.0\n100832    5.0\n100833    5.0\n100834    5.0\n100835    3.0\nName: rating, Length: 100836, dtype: float64"
     },
     "execution_count": 7,
     "metadata": {},
     "output_type": "execute_result"
    }
   ],
   "source": [
    "X,y=DL.one_hot_encode(data_movies=data_movies,data_ratings=data_ratings)\n",
    "print(X.shape)\n",
    "print(y.shape)\n"
   ],
   "metadata": {
    "collapsed": false,
    "ExecuteTime": {
     "end_time": "2024-11-17T06:49:29.011158Z",
     "start_time": "2024-11-17T06:49:28.870959Z"
    }
   },
   "id": "6fa46bea57aa6f22",
   "execution_count": 7
  },
  {
   "cell_type": "code",
   "outputs": [],
   "source": [],
   "metadata": {
    "collapsed": false,
    "ExecuteTime": {
     "end_time": "2024-11-17T06:46:46.025713Z",
     "start_time": "2024-11-17T06:46:46.023878Z"
    }
   },
   "id": "e9ae8e2240ad2dcd",
   "execution_count": 5
  }
 ],
 "metadata": {
  "kernelspec": {
   "display_name": "Python 3",
   "language": "python",
   "name": "python3"
  },
  "language_info": {
   "codemirror_mode": {
    "name": "ipython",
    "version": 2
   },
   "file_extension": ".py",
   "mimetype": "text/x-python",
   "name": "python",
   "nbconvert_exporter": "python",
   "pygments_lexer": "ipython2",
   "version": "2.7.6"
  }
 },
 "nbformat": 4,
 "nbformat_minor": 5
}
